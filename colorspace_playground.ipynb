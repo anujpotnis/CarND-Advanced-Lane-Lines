{
 "cells": [
  {
   "cell_type": "code",
   "execution_count": null,
   "metadata": {
    "collapsed": true,
    "deletable": true,
    "editable": true
   },
   "outputs": [],
   "source": [
    "import pickle\n",
    "import cv2\n",
    "import numpy as np\n",
    "import matplotlib.pyplot as plt\n",
    "import matplotlib.image as mpimg\n",
    "%matplotlib inline\n",
    "import glob"
   ]
  },
  {
   "cell_type": "code",
   "execution_count": null,
   "metadata": {
    "collapsed": false,
    "deletable": true,
    "editable": true
   },
   "outputs": [],
   "source": [
    "img = cv2.imread('./test_images/test1.jpg')\n",
    "img_rgb = cv2.cvtColor(img, cv2.COLOR_BGR2RGB)\n",
    "plt.imshow(img_rgb)"
   ]
  },
  {
   "cell_type": "code",
   "execution_count": null,
   "metadata": {
    "collapsed": false,
    "deletable": true,
    "editable": true,
    "scrolled": false
   },
   "outputs": [],
   "source": [
    "img_rgb = cv2.cvtColor(img, cv2.COLOR_BGR2RGB)\n",
    "f, (ax1, ax2, ax3) = plt.subplots(1, 3, figsize=(20,10))\n",
    "ax1.imshow(img_rgb[:,:,0], cmap='gray')\n",
    "ax1.set_title('R', fontsize=30)\n",
    "ax2.imshow(img_rgb[:,:,1], cmap='gray')\n",
    "ax2.set_title('G', fontsize=30)\n",
    "ax3.imshow(img_rgb[:,:,2], cmap='gray')\n",
    "ax3.set_title('B', fontsize=30)\n",
    "\n",
    "img_hls = cv2.cvtColor(img, cv2.COLOR_BGR2HLS)\n",
    "f, (ax1, ax2, ax3) = plt.subplots(1, 3, figsize=(20,10))\n",
    "ax1.imshow(img_hls[:,:,0], cmap='gray')\n",
    "ax1.set_title('H', fontsize=30)\n",
    "ax2.imshow(img_hls[:,:,1], cmap='gray')\n",
    "ax2.set_title('L', fontsize=30)\n",
    "ax3.imshow(img_hls[:,:,2], cmap='gray')\n",
    "ax3.set_title('S', fontsize=30)\n",
    "\n",
    "img_hsv = cv2.cvtColor(img, cv2.COLOR_BGR2HSV)\n",
    "f, (ax1, ax2, ax3) = plt.subplots(1, 3, figsize=(20,10))\n",
    "ax1.imshow(img_hsv[:,:,0], cmap='gray')\n",
    "ax1.set_title('H', fontsize=30)\n",
    "ax2.imshow(img_hsv[:,:,1], cmap='gray')\n",
    "ax2.set_title('S', fontsize=30)\n",
    "ax3.imshow(img_hsv[:,:,2], cmap='gray')\n",
    "ax3.set_title('V', fontsize=30)\n",
    "\n",
    "img_ycrcb = cv2.cvtColor(img, cv2.COLOR_BGR2YCrCb)\n",
    "f, (ax1, ax2, ax3) = plt.subplots(1, 3, figsize=(20,10))\n",
    "ax1.imshow(img_ycrcb[:,:,0], cmap='gray')\n",
    "ax1.set_title('Y', fontsize=30)\n",
    "ax2.imshow(img_ycrcb[:,:,1], cmap='gray')\n",
    "ax2.set_title('Cr', fontsize=30)\n",
    "ax3.imshow(255-img_ycrcb[:,:,2], cmap='gray')\n",
    "ax3.set_title('Cb', fontsize=30)\n",
    "\n",
    "## For Yellow:\n",
    "## HLS - S\n",
    "## YCrCb - Cb (after inverting)\n",
    "\n",
    "## For White:\n",
    "## RGB - R\n",
    "## HLS - S"
   ]
  },
  {
   "cell_type": "code",
   "execution_count": null,
   "metadata": {
    "collapsed": false,
    "deletable": true,
    "editable": true
   },
   "outputs": [],
   "source": [
    "cap = cv2.VideoCapture('./harder_challenge_video.mp4')\n",
    "# ret, frame = cap.read()\n",
    "# gray = cv2.cvtColor(frame, cv2.COLOR_BGR2HLS)\n",
    "# plt.imshow(gray[:,:,2],cmap='gray')"
   ]
  },
  {
   "cell_type": "code",
   "execution_count": null,
   "metadata": {
    "collapsed": false,
    "deletable": true,
    "editable": true,
    "scrolled": true
   },
   "outputs": [],
   "source": [
    "while(cap.isOpened):\n",
    "    # Capture frame-by-frame\n",
    "    ret, frame = cap.read()\n",
    "\n",
    "    # Our operations on the frame come here\n",
    "    gray = cv2.cvtColor(frame, cv2.COLOR_BGR2HLS)\n",
    "#     gray = np.uint8(((255-gray)>150)*255)\n",
    "    # Display the resulting frame\n",
    "    cv2.namedWindow('frame', cv2.WINDOW_NORMAL)\n",
    "    cv2.imshow('frame',gray[:,:,2])\n",
    "    if cv2.waitKey(1) & 0xFF == ord('q'):\n",
    "        break\n",
    "\n",
    "# When everything done, release the capture\n",
    "cap.release()\n",
    "cv2.destroyAllWindows()"
   ]
  },
  {
   "cell_type": "code",
   "execution_count": null,
   "metadata": {
    "collapsed": true,
    "deletable": true,
    "editable": true
   },
   "outputs": [],
   "source": [
    "# I = cv2.imread('./test_images/straight_lines1.jpg')\n",
    "# I = cv2.cvtColor(I, cv2.COLOR_BGR2RGB)\n",
    "\n",
    "# warped = cv2.warpPerspective(I, M, img_size, flags=cv2.INTER_LINEAR)\n",
    "# f, (ax1, ax2) = plt.subplots(1, 2, figsize=(24, 9))\n",
    "# f.tight_layout()\n",
    "\n",
    "# ax1.imshow(I)\n",
    "# ax1.set_title('Perpective Transform - Original Image', fontsize=40)\n",
    "# ax1.plot(1030, 660, 'ro', markersize = 30)\n",
    "# ax1.plot(275, 660, 'ro', markersize = 30)\n",
    "# ax1.plot(740, 480, 'ro', markersize = 30)\n",
    "# ax1.plot(550, 480, 'ro', markersize = 30)\n",
    "\n",
    "# ax2.imshow(warped)\n",
    "# ax2.set_title('Perspective Transform - Warped Image', fontsize=40)\n",
    "# ax2.plot(1050, 700, 'ro', markersize = 30)\n",
    "# ax2.plot(1050, 0, 'ro', markersize = 30)\n",
    "# ax2.plot(270, 0, 'ro', markersize = 30)\n",
    "# ax2.plot(270, 700, 'ro', markersize = 30)\n",
    "# plt.subplots_adjust(left=0., right=1, top=0.9, bottom=0.)"
   ]
  },
  {
   "cell_type": "code",
   "execution_count": null,
   "metadata": {
    "collapsed": true
   },
   "outputs": [],
   "source": [
    "lane_center = (np.absolute(right_fitx[np.max(ploty)] + left_fitx[np.max(ploty)]))/2\n",
    "dist_from_center = np.absolute(img.shape[1] // 2 - lane_center) * xm_per_pix\n",
    "\n",
    "font = cv2.FONT_HERSHEY_SIMPLEX\n",
    "curvature_info = 'Radius of Curvature = ' + np.float32(np.int(left_curverad)).astype('str') + ' (m)'\n",
    "dist_from_center_info = 'Distance from Center = ' + dist_from_center.astype('str') + ' (m)'\n",
    "result_info = cv2.putText(result, curvature_info,(50,50), font, 1.5,(255,255,255), 2, cv2.LINE_AA)\n",
    "result_info = cv2.putText(result_info, dist_from_center_info,(50,100), font, 1.5,(255,255,255), 2, cv2.LINE_AA)"
   ]
  }
 ],
 "metadata": {
  "kernelspec": {
   "display_name": "Python 3",
   "language": "python",
   "name": "python3"
  },
  "language_info": {
   "codemirror_mode": {
    "name": "ipython",
    "version": 3
   },
   "file_extension": ".py",
   "mimetype": "text/x-python",
   "name": "python",
   "nbconvert_exporter": "python",
   "pygments_lexer": "ipython3",
   "version": "3.5.2"
  },
  "widgets": {
   "state": {},
   "version": "1.1.2"
  }
 },
 "nbformat": 4,
 "nbformat_minor": 1
}
