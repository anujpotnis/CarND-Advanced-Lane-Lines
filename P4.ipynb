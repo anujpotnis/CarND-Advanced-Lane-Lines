{
 "cells": [
  {
   "cell_type": "code",
   "execution_count": 9,
   "metadata": {
    "collapsed": false
   },
   "outputs": [],
   "source": [
    "import pickle\n",
    "import cv2\n",
    "import numpy as np\n",
    "import matplotlib.pyplot as plt\n",
    "import matplotlib.image as mpimg\n",
    "%matplotlib inline\n",
    "import glob\n",
    "# Import everything needed to edit/save/watch video clips\n",
    "from moviepy.editor import VideoFileClip\n",
    "from IPython.display import HTML\n",
    "from collections import deque\n",
    "\n",
    "## Learning\n",
    "## process_img takes only 3-channel image\n",
    "## for histogram, remove img/2. Cal for entire image"
   ]
  },
  {
   "cell_type": "markdown",
   "metadata": {},
   "source": [
    "### TUNING PARAMETERS"
   ]
  },
  {
   "cell_type": "code",
   "execution_count": 10,
   "metadata": {
    "collapsed": false
   },
   "outputs": [],
   "source": [
    "# number of chessboard corners\n",
    "nx = 9\n",
    "ny = 6\n",
    "# determine image size\n",
    "img = cv2.imread('./camera_cal/calibration5.jpg')\n",
    "img_size = (img.shape[1], img.shape[0])\n",
    "# sobel thresholds\n",
    "\n",
    "# color thresholds\n",
    "\n",
    "# warp\n",
    "src = np.float32([[1030, 660], [740, 480], [550, 480], [275, 660]])\n",
    "dst = np.float32([[1050, 700], [1050, 0], [270, 0] , [270, 700]])\n",
    "\n",
    "MAXLEN=10\n",
    "left_coefficients = deque(maxlen=MAXLEN)\n",
    "right_coefficients = deque(maxlen=MAXLEN)"
   ]
  },
  {
   "cell_type": "markdown",
   "metadata": {},
   "source": [
    "### Camera Calibration"
   ]
  },
  {
   "cell_type": "markdown",
   "metadata": {},
   "source": [
    "[Camera_Calibration_Code](https://github.com/udacity/CarND-Camera-Calibration)"
   ]
  },
  {
   "cell_type": "code",
   "execution_count": 11,
   "metadata": {
    "collapsed": false
   },
   "outputs": [],
   "source": [
    "# prepare object points, like (0,0,0), (1,0,0), (2,0,0) ....,(6,5,0)\n",
    "objp = np.zeros((ny*nx,3), np.float32)\n",
    "objp[:,:2] = np.mgrid[0:nx, 0:ny].T.reshape(-1,2)\n",
    "\n",
    "# Arrays to store object points and image points from all the images.\n",
    "objpoints = [] # 3d points in real world space\n",
    "imgpoints = [] # 2d points in image plane.4\n",
    "\n",
    "img_calib = glob.glob('./camera_cal/*')\n",
    "\n",
    "for fname in img_calib:\n",
    "    img = cv2.cvtColor(cv2.imread(fname.strip()), cv2.COLOR_BGR2GRAY)\n",
    "    # Find the chessboard corners\n",
    "    ret, corners = cv2.findChessboardCorners(img, (nx,ny), None)\n",
    "    # if found, add object points, image points\n",
    "    if ret==True:\n",
    "        objpoints.append(objp)\n",
    "        imgpoints.append(corners)\n",
    "        # draw and display corners\n",
    "#         cv2.drawChessboardCorners(img, (nx,ny), corners, ret)\n",
    "#         cv2.imshow('img', img)\n",
    "#         cv2.waitKey(500)\n",
    "\n",
    "# camera calibration given object points and image points\n",
    "ret, mtx, dist, rvecs, tvecs = cv2.calibrateCamera(objpoints, imgpoints, img_size, None, None)\n"
   ]
  },
  {
   "cell_type": "markdown",
   "metadata": {},
   "source": [
    "### Camera Undistortion"
   ]
  },
  {
   "cell_type": "code",
   "execution_count": 12,
   "metadata": {
    "collapsed": false
   },
   "outputs": [],
   "source": [
    "def undistort(img, mtx, dist):\n",
    "    img_udist = cv2.undistort(img, mtx, dist, None, mtx)\n",
    "\n",
    "#     f, (ax1, ax2) = plt.subplots(1, 2, figsize=(24, 9))\n",
    "#     f.tight_layout()\n",
    "\n",
    "#     ax1.imshow(img)\n",
    "#     ax1.set_title('Original Image', fontsize=40)\n",
    "#     ax1.plot(1035, 660, 'ro', linewidth=2.0)\n",
    "#     ax1.plot(275, 660, 'ro', linewidth=2.0)\n",
    "#     ax1.plot(740, 480, 'ro', linewidth=2.0)\n",
    "#     ax1.plot(550, 480, 'ro', linewidth=2.0)\n",
    "\n",
    "#     ax2.imshow(img_udist)\n",
    "#     ax2.set_title('Undistorted and Warped Image', fontsize=40)\n",
    "#     ax2.plot(1035, 660, 'ro', linewidth=2.0)\n",
    "#     ax2.plot(275, 660, 'ro', linewidth=2.0)\n",
    "#     ax2.plot(740, 480, 'ro', linewidth=2.0)\n",
    "#     ax2.plot(550, 480, 'ro', linewidth=2.0)\n",
    "#     plt.subplots_adjust(left=0., right=1, top=0.9, bottom=0.)\n",
    "\n",
    "    return img_udist"
   ]
  },
  {
   "cell_type": "markdown",
   "metadata": {},
   "source": [
    "### Perspective Transform"
   ]
  },
  {
   "cell_type": "code",
   "execution_count": 13,
   "metadata": {
    "collapsed": false
   },
   "outputs": [],
   "source": [
    "M = cv2.getPerspectiveTransform(src, dst)\n",
    "Minv = cv2.getPerspectiveTransform(dst, src)\n",
    "warped = cv2.warpPerspective(img, M, img_size, flags=cv2.INTER_LINEAR)\n"
   ]
  },
  {
   "cell_type": "code",
   "execution_count": 14,
   "metadata": {
    "collapsed": false
   },
   "outputs": [],
   "source": [
    "def color_binary(img_channel, c_tmin=175, c_tmax=255, sx_tmin=20, sx_tmax=100, SOBEL=False):\n",
    "    binary = np.zeros_like(img_channel)\n",
    "    if SOBEL==True:\n",
    "        sobelx = cv2.Sobel(img_channel, cv2.CV_64F, 1, 0) # Take the derivative in x\n",
    "        abs_sobelx = np.absolute(sobelx) # Absolute x derivative to accentuate lines away from horizontal\n",
    "        scaled_sobel = np.uint8(255*abs_sobelx/np.max(abs_sobelx))\n",
    "        binary[(scaled_sobel >= sx_tmin) & (scaled_sobel <= sx_tmax)] = 1\n",
    "        return binary\n",
    "    else:\n",
    "        binary[(img_channel >= c_tmin) & (img_channel <= c_tmax)] = 1\n",
    "        return binary\n",
    "    \n",
    "def region_of_interest(img, vertices):\n",
    "    \"\"\"\n",
    "    Applies an image mask.\n",
    "\n",
    "    Only keeps the region of the image defined by the polygon\n",
    "    formed from `vertices`. The rest of the image is set to black.\n",
    "    \"\"\"\n",
    "    #defining a blank mask to start with\n",
    "    mask = np.zeros_like(img)   \n",
    "\n",
    "    #defining a 3 channel or 1 channel color to fill the mask with depending on the input image\n",
    "    if len(img.shape) > 2:\n",
    "        channel_count = img.shape[2]  # i.e. 3 or 4 depending on your image\n",
    "        ignore_mask_color = (255,) * channel_count\n",
    "    else:\n",
    "        ignore_mask_color = 255\n",
    "\n",
    "    #filling pixels inside the polygon defined by \"vertices\" with the fill color    \n",
    "    cv2.fillPoly(mask, vertices, ignore_mask_color)\n",
    "\n",
    "    #returning the image only where mask pixels are nonzero\n",
    "    masked_image = cv2.bitwise_and(img, mask)\n",
    "    return masked_image\n",
    "\n",
    "def filter_coeffs(coeffs): \n",
    "    coeffs_norm = np.linalg.norm(coeffs-coeffs.mean(axis=0), axis=1,keepdims=True)\n",
    "    if (coeffs_norm[-1]-coeffs_norm[-2])>2:\n",
    "        coeffs[-1]=coeffs[-2]\n",
    "    return coeffs_norm"
   ]
  },
  {
   "cell_type": "markdown",
   "metadata": {},
   "source": [
    "### Process Image"
   ]
  },
  {
   "cell_type": "code",
   "execution_count": 27,
   "metadata": {
    "collapsed": true
   },
   "outputs": [],
   "source": [
    "def process_image(img):\n",
    "    img_rgb = img\n",
    "\n",
    "    img_hls = cv2.cvtColor(img, cv2.COLOR_RGB2HLS)\n",
    "    #     img_ycrcb = cv2.cvtColor(frame, cv2.COLOR_BGR2YCrCb)\n",
    "    \n",
    "    # undistort image\n",
    "    img = cv2.undistort(img_hls, mtx, dist, None, mtx)\n",
    "    # ROI\n",
    "    left_bottom = [170,img.shape[0]]\n",
    "    left_top = [600, 430]\n",
    "    right_top = [740, 430]\n",
    "    right_bottom = [img.shape[1], img.shape[0]]\n",
    "    vertices = np.array([[left_bottom, left_top, right_top, right_bottom]], dtype=np.int32)\n",
    "    img_roi = region_of_interest(img, vertices)\n",
    "    img_roi = cv2.warpPerspective(img_roi, M, (img.shape[1], img.shape[0] ), flags=cv2.INTER_LINEAR)\n",
    "\n",
    "#     overlay = hough_lines(img_roi, 1, (np.pi)/180, 20, 50, 500)\n",
    "    \n",
    "    sxbinary = color_binary(img_roi[:,:,2], c_tmin=175, c_tmax=255, sx_tmin=20, sx_tmax=100, SOBEL=True)\n",
    "    cbinary = color_binary(img_roi[:,:,2], c_tmin=175, c_tmax=255, sx_tmin=20, sx_tmax=100, SOBEL=False)\n",
    "\n",
    "    stack_binary = np.dstack(( np.zeros_like(sxbinary), sxbinary, cbinary))\n",
    "    stack_binary=np.uint8(255*stack_binary/np.max(stack_binary))\n",
    "\n",
    "    # Combine the two binary thresholds\n",
    "    combined_binary = np.zeros_like(sxbinary)\n",
    "    combined_binary[(cbinary == 1) | (sxbinary == 1)] = 1\n",
    "#     return weighted_img(overlay, img_rgb)\n",
    "\n",
    "    ## Histogram\n",
    "    histogram = np.sum(combined_binary[:,:], axis=0)\n",
    "    # plt.plot(histogram)\n",
    "    # Create an output image to draw on and  visualize the result\n",
    "    out_img = np.dstack((combined_binary, combined_binary, combined_binary))*255\n",
    "    print(np.max(stack_binary))\n",
    "    print(out_img.shape)\n",
    "\n",
    "    # Find the peak of the left and right halves of the histogram\n",
    "    # These will be the starting point for the left and right lines\n",
    "    midpoint = np.int(histogram.shape[0]/2)\n",
    "    leftx_base = np.argmax(histogram[:midpoint])\n",
    "    rightx_base = np.argmax(histogram[midpoint:]) + midpoint\n",
    "\n",
    "\n",
    "    # Choose the number of sliding windows\n",
    "    nwindows = 9\n",
    "    # Set height of windows\n",
    "    window_height = np.int(combined_binary.shape[0]/nwindows)\n",
    "    # Identify the x and y positions of all nonzero pixels in the image\n",
    "    nonzero = combined_binary.nonzero()\n",
    "    nonzeroy = np.array(nonzero[0])\n",
    "    nonzerox = np.array(nonzero[1])\n",
    "    # Current positions to be updated for each window\n",
    "    leftx_current = leftx_base\n",
    "    rightx_current = rightx_base\n",
    "    # Set the width of the windows +/- margin\n",
    "    margin = 100\n",
    "    # Set minimum number of pixels found to recenter window\n",
    "    minpix = 50\n",
    "    # Create empty lists to receive left and right lane pixel indices\n",
    "    left_lane_inds = []\n",
    "    right_lane_inds = []\n",
    "\n",
    "    # Step through the windows one by one\n",
    "    for window in range(nwindows):\n",
    "        # Identify window boundaries in x and y (and right and left)\n",
    "        win_y_low = combined_binary.shape[0] - (window+1)*window_height\n",
    "        win_y_high = combined_binary.shape[0] - window*window_height\n",
    "        win_xleft_low = leftx_current - margin\n",
    "        win_xleft_high = leftx_current + margin\n",
    "        win_xright_low = rightx_current - margin\n",
    "        win_xright_high = rightx_current + margin\n",
    "        # Draw the windows on the visualization image\n",
    "        cv2.rectangle(out_img,(win_xleft_low,win_y_low),(win_xleft_high,win_y_high),(0,255,0), 2) \n",
    "        cv2.rectangle(out_img,(win_xright_low,win_y_low),(win_xright_high,win_y_high),(0,255,0), 2) \n",
    "        # Identify the nonzero pixels in x and y within the window\n",
    "        good_left_inds = ((nonzeroy >= win_y_low) & (nonzeroy < win_y_high) & (nonzerox >= win_xleft_low) & (nonzerox < win_xleft_high)).nonzero()[0]\n",
    "        good_right_inds = ((nonzeroy >= win_y_low) & (nonzeroy < win_y_high) & (nonzerox >= win_xright_low) & (nonzerox < win_xright_high)).nonzero()[0]\n",
    "        # Append these indices to the lists\n",
    "        left_lane_inds.append(good_left_inds)\n",
    "        right_lane_inds.append(good_right_inds)\n",
    "        # If you found > minpix pixels, recenter next window on their mean position\n",
    "        if len(good_left_inds) > minpix:\n",
    "            leftx_current = np.int(np.mean(nonzerox[good_left_inds]))\n",
    "        if len(good_right_inds) > minpix:        \n",
    "            rightx_current = np.int(np.mean(nonzerox[good_right_inds]))\n",
    "\n",
    "    # Concatenate the arrays of indices\n",
    "    left_lane_inds = np.concatenate(left_lane_inds)\n",
    "    right_lane_inds = np.concatenate(right_lane_inds)\n",
    "\n",
    "    # Extract left and right line pixel positions\n",
    "    leftx = nonzerox[left_lane_inds]\n",
    "    lefty = nonzeroy[left_lane_inds] \n",
    "    rightx = nonzerox[right_lane_inds]\n",
    "    righty = nonzeroy[right_lane_inds] \n",
    "\n",
    "    # Fit a second order polynomial to each\n",
    "#     left_fit = np.polyfit(lefty, leftx, 2)\n",
    "#     print('left_fit:', left_fit)\n",
    "#     right_fit = np.polyfit(righty, rightx, 2)\n",
    "    \n",
    "    left_coefficients.append(np.polyfit(lefty, leftx, 2))\n",
    "#     print('left_coeff: ', left_coefficients)\n",
    "    if np.array(left_coefficients)==MAXLEN:\n",
    "        left_coefficients = filter_coeffs(np.array(left_coefficients))\n",
    "    left_fit = np.array(left_coefficients).mean(axis=0)\n",
    "    print('left_fit: ', left_fit)\n",
    "    right_coefficients.append(np.polyfit(righty, rightx, 2))\n",
    "    if len(right_coefficients)==MAXLEN:\n",
    "        right_coefficients = filter_coeffs(right_coefficients)\n",
    "    right_fit = np.array(right_coefficients).mean(axis=0) \n",
    "    print('right_fit: ', right_fit)\n",
    "    \n",
    "    # Generate x and y values for plotting\n",
    "    ## Quadratic Equation: ay2+by+c\n",
    "    ploty = np.linspace(0, combined_binary.shape[0]-1, combined_binary.shape[0] )\n",
    "    left_fitx = left_fit[0]*ploty**2 + left_fit[1]*ploty + left_fit[2]\n",
    "    right_fitx = right_fit[0]*ploty**2 + right_fit[1]*ploty + right_fit[2]\n",
    "\n",
    "    out_img[nonzeroy[left_lane_inds], nonzerox[left_lane_inds]] = [255, 0, 0]\n",
    "    out_img[nonzeroy[right_lane_inds], nonzerox[right_lane_inds]] = [0, 0, 255]\n",
    "#     plt.imshow(out_img)\n",
    "#     plt.plot(left_fitx, ploty, color='yellow')\n",
    "#     plt.plot(right_fitx, ploty, color='yellow')\n",
    "#     plt.xlim(0, 1280)\n",
    "#     plt.ylim(720, 0)\n",
    "\n",
    "    # Define y-value where we want radius of curvature\n",
    "    # I'll choose the maximum y-value, corresponding to the bottom of the image\n",
    "    y_eval = np.max(ploty)\n",
    "    left_curverad = ((1 + (2*left_fit[0]*y_eval + left_fit[1])**2)**1.5) / np.absolute(2*left_fit[0])\n",
    "    right_curverad = ((1 + (2*right_fit[0]*y_eval + right_fit[1])**2)**1.5) / np.absolute(2*right_fit[0])\n",
    "    print(left_curverad, right_curverad)\n",
    "    # Example values: 1926.74 1908.48\n",
    "\n",
    "    # Define conversions in x and y from pixels space to meters\n",
    "    ym_per_pix = 30/720 # meters per pixel in y dimension\n",
    "    xm_per_pix = 3.7/700 # meters per pixel in x dimension\n",
    "\n",
    "    # Fit new polynomials to x,y in world space\n",
    "    left_fit_cr = np.polyfit(ploty*ym_per_pix, left_fitx*xm_per_pix, 2)\n",
    "    right_fit_cr = np.polyfit(ploty*ym_per_pix, right_fitx*xm_per_pix, 2)\n",
    "    # Calculate the new radii of curvature\n",
    "    left_curverad = ((1 + (2*left_fit_cr[0]*y_eval*ym_per_pix + left_fit_cr[1])**2)**1.5) / np.absolute(2*left_fit_cr[0])\n",
    "    right_curverad = ((1 + (2*right_fit_cr[0]*y_eval*ym_per_pix + right_fit_cr[1])**2)**1.5) / np.absolute(2*right_fit_cr[0])\n",
    "    # Now our radius of curvature is in meters\n",
    "    print(left_curverad, 'm', right_curverad, 'm')\n",
    "    # Example values: 632.1 m    626.2 m\n",
    "    \n",
    "    \n",
    "        #Create an image to draw the lines on\n",
    "    warp_zero = np.zeros_like(cbinary).astype(np.uint8)\n",
    "    color_warp = np.dstack((warp_zero, warp_zero, warp_zero))\n",
    "\n",
    "    # Recast the x and y points into usable format for cv2.fillPoly()\n",
    "    pts_left = np.array([np.transpose(np.vstack([left_fitx, ploty]))])\n",
    "    pts_right = np.array([np.flipud(np.transpose(np.vstack([right_fitx, ploty])))])\n",
    "    pts = np.hstack((pts_left, pts_right))\n",
    "\n",
    "    # Draw the lane onto the warped blank image\n",
    "    cv2.fillPoly(color_warp, np.int_([pts]), (0,255, 0))\n",
    "\n",
    "    # Warp the blank back to original image space using inverse perspective matrix (Minv)\n",
    "    newwarp = cv2.warpPerspective(color_warp, Minv, (img.shape[1], img.shape[0])) \n",
    "    # Combine the result with the original image\n",
    "    result = cv2.addWeighted(img_rgb, 1, newwarp, 0.3, 0)\n",
    "#     plt.imshow(result)\n",
    "\n",
    "    return result\n",
    "#     return stack_binary"
   ]
  },
  {
   "cell_type": "markdown",
   "metadata": {},
   "source": [
    "### Debug - Image"
   ]
  },
  {
   "cell_type": "code",
   "execution_count": 28,
   "metadata": {
    "collapsed": false
   },
   "outputs": [
    {
     "data": {
      "text/plain": [
       "1"
      ]
     },
     "execution_count": 28,
     "metadata": {},
     "output_type": "execute_result"
    }
   ],
   "source": [
    "len(left_coefficients)"
   ]
  },
  {
   "cell_type": "code",
   "execution_count": 29,
   "metadata": {
    "collapsed": false
   },
   "outputs": [
    {
     "name": "stdout",
     "output_type": "stream",
     "text": [
      "255\n",
      "(720, 1280, 3)\n"
     ]
    },
    {
     "ename": "UnboundLocalError",
     "evalue": "local variable 'left_coefficients' referenced before assignment",
     "output_type": "error",
     "traceback": [
      "\u001b[0;31m---------------------------------------------------------------------------\u001b[0m",
      "\u001b[0;31mUnboundLocalError\u001b[0m                         Traceback (most recent call last)",
      "\u001b[0;32m<ipython-input-29-b460fb6e5873>\u001b[0m in \u001b[0;36m<module>\u001b[0;34m()\u001b[0m\n\u001b[1;32m      1\u001b[0m \u001b[0mimg\u001b[0m \u001b[1;33m=\u001b[0m \u001b[0mcv2\u001b[0m\u001b[1;33m.\u001b[0m\u001b[0mimread\u001b[0m\u001b[1;33m(\u001b[0m\u001b[1;34m'./test_images/straight_lines2.jpg'\u001b[0m\u001b[1;33m)\u001b[0m\u001b[1;33m\u001b[0m\u001b[0m\n\u001b[0;32m----> 2\u001b[0;31m \u001b[0mimg_out\u001b[0m \u001b[1;33m=\u001b[0m \u001b[0mprocess_image\u001b[0m\u001b[1;33m(\u001b[0m\u001b[0mimg\u001b[0m\u001b[1;33m)\u001b[0m\u001b[1;33m\u001b[0m\u001b[0m\n\u001b[0m\u001b[1;32m      3\u001b[0m \u001b[0mplt\u001b[0m\u001b[1;33m.\u001b[0m\u001b[0mimshow\u001b[0m\u001b[1;33m(\u001b[0m\u001b[0mimg_out\u001b[0m\u001b[1;33m)\u001b[0m\u001b[1;33m\u001b[0m\u001b[0m\n",
      "\u001b[0;32m<ipython-input-27-8b7c7acf50f3>\u001b[0m in \u001b[0;36mprocess_image\u001b[0;34m(img)\u001b[0m\n\u001b[1;32m    102\u001b[0m \u001b[1;31m#     right_fit = np.polyfit(righty, rightx, 2)\u001b[0m\u001b[1;33m\u001b[0m\u001b[1;33m\u001b[0m\u001b[0m\n\u001b[1;32m    103\u001b[0m \u001b[1;33m\u001b[0m\u001b[0m\n\u001b[0;32m--> 104\u001b[0;31m     \u001b[0mleft_coefficients\u001b[0m\u001b[1;33m.\u001b[0m\u001b[0mappend\u001b[0m\u001b[1;33m(\u001b[0m\u001b[0mnp\u001b[0m\u001b[1;33m.\u001b[0m\u001b[0mpolyfit\u001b[0m\u001b[1;33m(\u001b[0m\u001b[0mlefty\u001b[0m\u001b[1;33m,\u001b[0m \u001b[0mleftx\u001b[0m\u001b[1;33m,\u001b[0m \u001b[1;36m2\u001b[0m\u001b[1;33m)\u001b[0m\u001b[1;33m)\u001b[0m\u001b[1;33m\u001b[0m\u001b[0m\n\u001b[0m\u001b[1;32m    105\u001b[0m \u001b[1;31m#     print('left_coeff: ', left_coefficients)\u001b[0m\u001b[1;33m\u001b[0m\u001b[1;33m\u001b[0m\u001b[0m\n\u001b[1;32m    106\u001b[0m     \u001b[1;32mif\u001b[0m \u001b[0mnp\u001b[0m\u001b[1;33m.\u001b[0m\u001b[0marray\u001b[0m\u001b[1;33m(\u001b[0m\u001b[0mleft_coefficients\u001b[0m\u001b[1;33m)\u001b[0m\u001b[1;33m==\u001b[0m\u001b[0mMAXLEN\u001b[0m\u001b[1;33m:\u001b[0m\u001b[1;33m\u001b[0m\u001b[0m\n",
      "\u001b[0;31mUnboundLocalError\u001b[0m: local variable 'left_coefficients' referenced before assignment"
     ]
    }
   ],
   "source": [
    "img = cv2.imread('./test_images/straight_lines2.jpg')\n",
    "img_out = process_image(img)\n",
    "plt.imshow(img_out)"
   ]
  },
  {
   "cell_type": "code",
   "execution_count": null,
   "metadata": {
    "collapsed": false
   },
   "outputs": [],
   "source": [
    "clip1 = VideoFileClip('./project_video.mp4')\n",
    "white_clip = clip1.fl_image(process_image) #NOTE: this function expects color images!!\n",
    "\n",
    "## ONLY TO WRITE VIDEO\n",
    "white_output = './video_out.mp4'\n",
    "%time white_clip.write_videofile(white_output, audio=False)"
   ]
  },
  {
   "cell_type": "code",
   "execution_count": null,
   "metadata": {
    "collapsed": false,
    "scrolled": true
   },
   "outputs": [],
   "source": [
    "HTML(\"\"\"\n",
    "<video width=\"960\" height=\"720\" controls>\n",
    "  <source src=\"{0}\">\n",
    "</video>\n",
    "\"\"\".format(white_output))"
   ]
  },
  {
   "cell_type": "code",
   "execution_count": null,
   "metadata": {
    "collapsed": false,
    "scrolled": true
   },
   "outputs": [],
   "source": [
    "C = np.array(right_coefficients)\n",
    "Cmean = C.mean(axis=0)\n",
    "print('C:', C)\n",
    "print('Cmean:', Cmean)"
   ]
  },
  {
   "cell_type": "code",
   "execution_count": null,
   "metadata": {
    "collapsed": false
   },
   "outputs": [],
   "source": [
    "plt.plot(C[:,2])"
   ]
  },
  {
   "cell_type": "code",
   "execution_count": null,
   "metadata": {
    "collapsed": false
   },
   "outputs": [],
   "source": [
    "Cmean = C.mean(axis=0)\n",
    "Cdiff = np.linalg.norm(C-Cmean, axis=1,keepdims=True)\n",
    "(Cdiff[-1])\n",
    "if (Cdiff[-1]-Cdiff[-2])>2:\n",
    "    C[-1]=C[-2]\n"
   ]
  },
  {
   "cell_type": "code",
   "execution_count": null,
   "metadata": {
    "collapsed": false
   },
   "outputs": [],
   "source": [
    "(Cdiff[-1]-Cdiff[-2])>20"
   ]
  },
  {
   "cell_type": "code",
   "execution_count": null,
   "metadata": {
    "collapsed": false
   },
   "outputs": [],
   "source": [
    "C[-1]"
   ]
  },
  {
   "cell_type": "code",
   "execution_count": null,
   "metadata": {
    "collapsed": true
   },
   "outputs": [],
   "source": []
  }
 ],
 "metadata": {
  "anaconda-cloud": {},
  "kernelspec": {
   "display_name": "Python [conda root]",
   "language": "python",
   "name": "conda-root-py"
  },
  "language_info": {
   "codemirror_mode": {
    "name": "ipython",
    "version": 3
   },
   "file_extension": ".py",
   "mimetype": "text/x-python",
   "name": "python",
   "nbconvert_exporter": "python",
   "pygments_lexer": "ipython3",
   "version": "3.5.2"
  }
 },
 "nbformat": 4,
 "nbformat_minor": 1
}
